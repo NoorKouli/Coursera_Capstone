{
    "cells": [
        {
            "cell_type": "markdown",
            "metadata": {
                "collapsed": true
            },
            "source": "# Coursera Capstone Project - Car Accident Severity"
        },
        {
            "cell_type": "markdown",
            "metadata": {},
            "source": "### Applied Data Science Capstone by IBM/Coursera"
        },
        {
            "cell_type": "markdown",
            "metadata": {},
            "source": "## Table of contents\n* [Introduction: Business Problem](#introduction)\n* [Data](#data)\n* [Methodology](#methodology)\n* [Analysis](#analysis)\n* [Results and Discussion](#results)\n* [Conclusion](#conclusion)"
        },
        {
            "cell_type": "markdown",
            "metadata": {},
            "source": "## Introduction: Business Problem <a name=\"introduction\"></a>"
        },
        {
            "cell_type": "markdown",
            "metadata": {},
            "source": "In this project we will try to predict the severity of a number of car accidents. Specifically, this report will be targeted to car drivers living in **Seattle**, Washington, USA.\n\nSince there are lots of variables that affect car accident severity, we will try to determine **which variables are highly correlated with more severe accidents**. We are also particularly interested in **the effects of the weather condition**.\n"
        },
        {
            "cell_type": "markdown",
            "metadata": {},
            "source": "## Data <a name=\"data\"></a>"
        },
        {
            "cell_type": "markdown",
            "metadata": {},
            "source": "Based on definition of our problem, factors that couold influence the classification severity is:\n* Weather conditions\n* Collision Type\n* Vehicle Count\n\nHowever, there are more factors that may influence the severity of a car accident which will be addressed throughout this notebook.\n\nData-Collisions csv file will be needed to extract/generate the required information. It consists of collisions from years 2004 to present \n\n"
        },
        {
            "cell_type": "code",
            "execution_count": 49,
            "metadata": {},
            "outputs": [
                {
                    "name": "stderr",
                    "output_type": "stream",
                    "text": "/opt/conda/envs/Python36/lib/python3.6/site-packages/IPython/core/interactiveshell.py:3020: DtypeWarning: Columns (33) have mixed types. Specify dtype option on import or set low_memory=False.\n  interactivity=interactivity, compiler=compiler, result=result)\n"
                },
                {
                    "data": {
                        "text/html": "<div>\n<style scoped>\n    .dataframe tbody tr th:only-of-type {\n        vertical-align: middle;\n    }\n\n    .dataframe tbody tr th {\n        vertical-align: top;\n    }\n\n    .dataframe thead th {\n        text-align: right;\n    }\n</style>\n<table border=\"1\" class=\"dataframe\">\n  <thead>\n    <tr style=\"text-align: right;\">\n      <th></th>\n      <th>SEVERITYCODE</th>\n      <th>X</th>\n      <th>Y</th>\n      <th>OBJECTID</th>\n      <th>INCKEY</th>\n      <th>COLDETKEY</th>\n      <th>REPORTNO</th>\n      <th>STATUS</th>\n      <th>ADDRTYPE</th>\n      <th>INTKEY</th>\n      <th>...</th>\n      <th>ROADCOND</th>\n      <th>LIGHTCOND</th>\n      <th>PEDROWNOTGRNT</th>\n      <th>SDOTCOLNUM</th>\n      <th>SPEEDING</th>\n      <th>ST_COLCODE</th>\n      <th>ST_COLDESC</th>\n      <th>SEGLANEKEY</th>\n      <th>CROSSWALKKEY</th>\n      <th>HITPARKEDCAR</th>\n    </tr>\n  </thead>\n  <tbody>\n    <tr>\n      <th>0</th>\n      <td>2</td>\n      <td>-122.323148</td>\n      <td>47.703140</td>\n      <td>1</td>\n      <td>1307</td>\n      <td>1307</td>\n      <td>3502005</td>\n      <td>Matched</td>\n      <td>Intersection</td>\n      <td>37475.0</td>\n      <td>...</td>\n      <td>Wet</td>\n      <td>Daylight</td>\n      <td>NaN</td>\n      <td>NaN</td>\n      <td>NaN</td>\n      <td>10</td>\n      <td>Entering at angle</td>\n      <td>0</td>\n      <td>0</td>\n      <td>N</td>\n    </tr>\n    <tr>\n      <th>1</th>\n      <td>1</td>\n      <td>-122.347294</td>\n      <td>47.647172</td>\n      <td>2</td>\n      <td>52200</td>\n      <td>52200</td>\n      <td>2607959</td>\n      <td>Matched</td>\n      <td>Block</td>\n      <td>NaN</td>\n      <td>...</td>\n      <td>Wet</td>\n      <td>Dark - Street Lights On</td>\n      <td>NaN</td>\n      <td>6354039.0</td>\n      <td>NaN</td>\n      <td>11</td>\n      <td>From same direction - both going straight - bo...</td>\n      <td>0</td>\n      <td>0</td>\n      <td>N</td>\n    </tr>\n    <tr>\n      <th>2</th>\n      <td>1</td>\n      <td>-122.334540</td>\n      <td>47.607871</td>\n      <td>3</td>\n      <td>26700</td>\n      <td>26700</td>\n      <td>1482393</td>\n      <td>Matched</td>\n      <td>Block</td>\n      <td>NaN</td>\n      <td>...</td>\n      <td>Dry</td>\n      <td>Daylight</td>\n      <td>NaN</td>\n      <td>4323031.0</td>\n      <td>NaN</td>\n      <td>32</td>\n      <td>One parked--one moving</td>\n      <td>0</td>\n      <td>0</td>\n      <td>N</td>\n    </tr>\n    <tr>\n      <th>3</th>\n      <td>1</td>\n      <td>-122.334803</td>\n      <td>47.604803</td>\n      <td>4</td>\n      <td>1144</td>\n      <td>1144</td>\n      <td>3503937</td>\n      <td>Matched</td>\n      <td>Block</td>\n      <td>NaN</td>\n      <td>...</td>\n      <td>Dry</td>\n      <td>Daylight</td>\n      <td>NaN</td>\n      <td>NaN</td>\n      <td>NaN</td>\n      <td>23</td>\n      <td>From same direction - all others</td>\n      <td>0</td>\n      <td>0</td>\n      <td>N</td>\n    </tr>\n    <tr>\n      <th>4</th>\n      <td>2</td>\n      <td>-122.306426</td>\n      <td>47.545739</td>\n      <td>5</td>\n      <td>17700</td>\n      <td>17700</td>\n      <td>1807429</td>\n      <td>Matched</td>\n      <td>Intersection</td>\n      <td>34387.0</td>\n      <td>...</td>\n      <td>Wet</td>\n      <td>Daylight</td>\n      <td>NaN</td>\n      <td>4028032.0</td>\n      <td>NaN</td>\n      <td>10</td>\n      <td>Entering at angle</td>\n      <td>0</td>\n      <td>0</td>\n      <td>N</td>\n    </tr>\n  </tbody>\n</table>\n<p>5 rows \u00d7 38 columns</p>\n</div>",
                        "text/plain": "   SEVERITYCODE           X          Y  OBJECTID  INCKEY  COLDETKEY REPORTNO  \\\n0             2 -122.323148  47.703140         1    1307       1307  3502005   \n1             1 -122.347294  47.647172         2   52200      52200  2607959   \n2             1 -122.334540  47.607871         3   26700      26700  1482393   \n3             1 -122.334803  47.604803         4    1144       1144  3503937   \n4             2 -122.306426  47.545739         5   17700      17700  1807429   \n\n    STATUS      ADDRTYPE   INTKEY  ... ROADCOND                LIGHTCOND  \\\n0  Matched  Intersection  37475.0  ...      Wet                 Daylight   \n1  Matched         Block      NaN  ...      Wet  Dark - Street Lights On   \n2  Matched         Block      NaN  ...      Dry                 Daylight   \n3  Matched         Block      NaN  ...      Dry                 Daylight   \n4  Matched  Intersection  34387.0  ...      Wet                 Daylight   \n\n  PEDROWNOTGRNT  SDOTCOLNUM SPEEDING ST_COLCODE  \\\n0           NaN         NaN      NaN         10   \n1           NaN   6354039.0      NaN         11   \n2           NaN   4323031.0      NaN         32   \n3           NaN         NaN      NaN         23   \n4           NaN   4028032.0      NaN         10   \n\n                                          ST_COLDESC  SEGLANEKEY  \\\n0                                  Entering at angle           0   \n1  From same direction - both going straight - bo...           0   \n2                             One parked--one moving           0   \n3                   From same direction - all others           0   \n4                                  Entering at angle           0   \n\n   CROSSWALKKEY  HITPARKEDCAR  \n0             0             N  \n1             0             N  \n2             0             N  \n3             0             N  \n4             0             N  \n\n[5 rows x 38 columns]"
                    },
                    "execution_count": 49,
                    "metadata": {},
                    "output_type": "execute_result"
                }
            ],
            "source": "# The code was removed by Watson Studio for sharing."
        },
        {
            "cell_type": "markdown",
            "metadata": {},
            "source": "## Data Preprocessing & Cleaning"
        },
        {
            "cell_type": "code",
            "execution_count": 50,
            "metadata": {},
            "outputs": [
                {
                    "data": {
                        "text/html": "<div>\n<style scoped>\n    .dataframe tbody tr th:only-of-type {\n        vertical-align: middle;\n    }\n\n    .dataframe tbody tr th {\n        vertical-align: top;\n    }\n\n    .dataframe thead th {\n        text-align: right;\n    }\n</style>\n<table border=\"1\" class=\"dataframe\">\n  <thead>\n    <tr style=\"text-align: right;\">\n      <th></th>\n      <th>SEVERITYCODE</th>\n      <th>WEATHER</th>\n      <th>COLLISIONTYPE</th>\n      <th>VEHCOUNT</th>\n    </tr>\n  </thead>\n  <tbody>\n    <tr>\n      <th>0</th>\n      <td>2</td>\n      <td>Overcast</td>\n      <td>Angles</td>\n      <td>2</td>\n    </tr>\n    <tr>\n      <th>1</th>\n      <td>1</td>\n      <td>Raining</td>\n      <td>Sideswipe</td>\n      <td>2</td>\n    </tr>\n    <tr>\n      <th>2</th>\n      <td>1</td>\n      <td>Overcast</td>\n      <td>Parked Car</td>\n      <td>3</td>\n    </tr>\n    <tr>\n      <th>3</th>\n      <td>1</td>\n      <td>Clear</td>\n      <td>Other</td>\n      <td>3</td>\n    </tr>\n    <tr>\n      <th>4</th>\n      <td>2</td>\n      <td>Raining</td>\n      <td>Angles</td>\n      <td>2</td>\n    </tr>\n  </tbody>\n</table>\n</div>",
                        "text/plain": "   SEVERITYCODE   WEATHER COLLISIONTYPE  VEHCOUNT\n0             2  Overcast        Angles         2\n1             1   Raining     Sideswipe         2\n2             1  Overcast    Parked Car         3\n3             1     Clear         Other         3\n4             2   Raining        Angles         2"
                    },
                    "execution_count": 50,
                    "metadata": {},
                    "output_type": "execute_result"
                }
            ],
            "source": "df=df_data_1.loc[:,['SEVERITYCODE','WEATHER', 'COLLISIONTYPE', 'VEHCOUNT']]\ndf.set_index('SEVERITYCODE')\ndf.head()"
        },
        {
            "cell_type": "code",
            "execution_count": 51,
            "metadata": {},
            "outputs": [
                {
                    "data": {
                        "text/plain": "(194673, 4)"
                    },
                    "execution_count": 51,
                    "metadata": {},
                    "output_type": "execute_result"
                }
            ],
            "source": "df.shape"
        },
        {
            "cell_type": "code",
            "execution_count": 52,
            "metadata": {},
            "outputs": [
                {
                    "name": "stdout",
                    "output_type": "stream",
                    "text": "SEVERITYCODE        0\nWEATHER          5081\nCOLLISIONTYPE    4904\nVEHCOUNT            0\ndtype: int64\n"
                }
            ],
            "source": "print(df.isnull().sum())"
        },
        {
            "cell_type": "code",
            "execution_count": 53,
            "metadata": {},
            "outputs": [],
            "source": "df=df.dropna()"
        },
        {
            "cell_type": "code",
            "execution_count": 54,
            "metadata": {},
            "outputs": [
                {
                    "name": "stdout",
                    "output_type": "stream",
                    "text": "SEVERITYCODE     0\nWEATHER          0\nCOLLISIONTYPE    0\nVEHCOUNT         0\ndtype: int64\n"
                }
            ],
            "source": "print(df.isnull().sum())"
        },
        {
            "cell_type": "code",
            "execution_count": 55,
            "metadata": {},
            "outputs": [
                {
                    "data": {
                        "text/html": "<div>\n<style scoped>\n    .dataframe tbody tr th:only-of-type {\n        vertical-align: middle;\n    }\n\n    .dataframe tbody tr th {\n        vertical-align: top;\n    }\n\n    .dataframe thead th {\n        text-align: right;\n    }\n</style>\n<table border=\"1\" class=\"dataframe\">\n  <thead>\n    <tr style=\"text-align: right;\">\n      <th></th>\n      <th>SEVERITYCODE</th>\n      <th>WEATHER</th>\n      <th>COLLISIONTYPE</th>\n      <th>VEHCOUNT</th>\n    </tr>\n  </thead>\n  <tbody>\n    <tr>\n      <th>0</th>\n      <td>2</td>\n      <td>Overcast</td>\n      <td>Angles</td>\n      <td>2</td>\n    </tr>\n    <tr>\n      <th>1</th>\n      <td>1</td>\n      <td>Raining</td>\n      <td>Sideswipe</td>\n      <td>2</td>\n    </tr>\n    <tr>\n      <th>2</th>\n      <td>1</td>\n      <td>Overcast</td>\n      <td>Parked Car</td>\n      <td>3</td>\n    </tr>\n    <tr>\n      <th>3</th>\n      <td>1</td>\n      <td>Clear</td>\n      <td>Other</td>\n      <td>3</td>\n    </tr>\n    <tr>\n      <th>4</th>\n      <td>2</td>\n      <td>Raining</td>\n      <td>Angles</td>\n      <td>2</td>\n    </tr>\n    <tr>\n      <th>5</th>\n      <td>1</td>\n      <td>Clear</td>\n      <td>Angles</td>\n      <td>2</td>\n    </tr>\n    <tr>\n      <th>6</th>\n      <td>1</td>\n      <td>Raining</td>\n      <td>Angles</td>\n      <td>2</td>\n    </tr>\n    <tr>\n      <th>7</th>\n      <td>2</td>\n      <td>Clear</td>\n      <td>Cycles</td>\n      <td>1</td>\n    </tr>\n    <tr>\n      <th>8</th>\n      <td>1</td>\n      <td>Clear</td>\n      <td>Parked Car</td>\n      <td>2</td>\n    </tr>\n    <tr>\n      <th>9</th>\n      <td>2</td>\n      <td>Clear</td>\n      <td>Angles</td>\n      <td>2</td>\n    </tr>\n    <tr>\n      <th>10</th>\n      <td>1</td>\n      <td>Overcast</td>\n      <td>Other</td>\n      <td>2</td>\n    </tr>\n    <tr>\n      <th>12</th>\n      <td>1</td>\n      <td>Raining</td>\n      <td>Rear Ended</td>\n      <td>2</td>\n    </tr>\n    <tr>\n      <th>13</th>\n      <td>1</td>\n      <td>Raining</td>\n      <td>Parked Car</td>\n      <td>2</td>\n    </tr>\n    <tr>\n      <th>14</th>\n      <td>2</td>\n      <td>Clear</td>\n      <td>Head On</td>\n      <td>2</td>\n    </tr>\n    <tr>\n      <th>16</th>\n      <td>2</td>\n      <td>Overcast</td>\n      <td>Left Turn</td>\n      <td>2</td>\n    </tr>\n    <tr>\n      <th>17</th>\n      <td>1</td>\n      <td>Overcast</td>\n      <td>Rear Ended</td>\n      <td>2</td>\n    </tr>\n    <tr>\n      <th>18</th>\n      <td>2</td>\n      <td>Clear</td>\n      <td>Rear Ended</td>\n      <td>3</td>\n    </tr>\n    <tr>\n      <th>19</th>\n      <td>1</td>\n      <td>Unknown</td>\n      <td>Parked Car</td>\n      <td>2</td>\n    </tr>\n    <tr>\n      <th>20</th>\n      <td>2</td>\n      <td>Clear</td>\n      <td>Rear Ended</td>\n      <td>2</td>\n    </tr>\n    <tr>\n      <th>21</th>\n      <td>2</td>\n      <td>Clear</td>\n      <td>Angles</td>\n      <td>3</td>\n    </tr>\n    <tr>\n      <th>23</th>\n      <td>1</td>\n      <td>Unknown</td>\n      <td>Other</td>\n      <td>1</td>\n    </tr>\n    <tr>\n      <th>26</th>\n      <td>1</td>\n      <td>Overcast</td>\n      <td>Left Turn</td>\n      <td>2</td>\n    </tr>\n    <tr>\n      <th>28</th>\n      <td>1</td>\n      <td>Clear</td>\n      <td>Other</td>\n      <td>2</td>\n    </tr>\n    <tr>\n      <th>30</th>\n      <td>1</td>\n      <td>Raining</td>\n      <td>Left Turn</td>\n      <td>2</td>\n    </tr>\n    <tr>\n      <th>31</th>\n      <td>1</td>\n      <td>Clear</td>\n      <td>Left Turn</td>\n      <td>2</td>\n    </tr>\n    <tr>\n      <th>34</th>\n      <td>1</td>\n      <td>Other</td>\n      <td>Parked Car</td>\n      <td>2</td>\n    </tr>\n    <tr>\n      <th>41</th>\n      <td>1</td>\n      <td>Overcast</td>\n      <td>Angles</td>\n      <td>2</td>\n    </tr>\n    <tr>\n      <th>42</th>\n      <td>1</td>\n      <td>Clear</td>\n      <td>Rear Ended</td>\n      <td>2</td>\n    </tr>\n    <tr>\n      <th>43</th>\n      <td>2</td>\n      <td>Raining</td>\n      <td>Other</td>\n      <td>1</td>\n    </tr>\n    <tr>\n      <th>44</th>\n      <td>1</td>\n      <td>Overcast</td>\n      <td>Other</td>\n      <td>1</td>\n    </tr>\n    <tr>\n      <th>...</th>\n      <td>...</td>\n      <td>...</td>\n      <td>...</td>\n      <td>...</td>\n    </tr>\n    <tr>\n      <th>165820</th>\n      <td>2</td>\n      <td>Raining</td>\n      <td>Parked Car</td>\n      <td>7</td>\n    </tr>\n    <tr>\n      <th>166427</th>\n      <td>2</td>\n      <td>Overcast</td>\n      <td>Parked Car</td>\n      <td>8</td>\n    </tr>\n    <tr>\n      <th>168078</th>\n      <td>2</td>\n      <td>Unknown</td>\n      <td>Right Turn</td>\n      <td>3</td>\n    </tr>\n    <tr>\n      <th>168466</th>\n      <td>1</td>\n      <td>Blowing Sand/Dirt</td>\n      <td>Other</td>\n      <td>1</td>\n    </tr>\n    <tr>\n      <th>168471</th>\n      <td>2</td>\n      <td>Clear</td>\n      <td>Rear Ended</td>\n      <td>9</td>\n    </tr>\n    <tr>\n      <th>168893</th>\n      <td>2</td>\n      <td>Other</td>\n      <td>Cycles</td>\n      <td>1</td>\n    </tr>\n    <tr>\n      <th>170692</th>\n      <td>2</td>\n      <td>Severe Crosswind</td>\n      <td>Rear Ended</td>\n      <td>2</td>\n    </tr>\n    <tr>\n      <th>172159</th>\n      <td>2</td>\n      <td>Fog/Smog/Smoke</td>\n      <td>Angles</td>\n      <td>4</td>\n    </tr>\n    <tr>\n      <th>174097</th>\n      <td>1</td>\n      <td>Sleet/Hail/Freezing Rain</td>\n      <td>Left Turn</td>\n      <td>2</td>\n    </tr>\n    <tr>\n      <th>174550</th>\n      <td>2</td>\n      <td>Other</td>\n      <td>Rear Ended</td>\n      <td>4</td>\n    </tr>\n    <tr>\n      <th>175792</th>\n      <td>2</td>\n      <td>Raining</td>\n      <td>Sideswipe</td>\n      <td>6</td>\n    </tr>\n    <tr>\n      <th>178871</th>\n      <td>1</td>\n      <td>Blowing Sand/Dirt</td>\n      <td>Sideswipe</td>\n      <td>3</td>\n    </tr>\n    <tr>\n      <th>179091</th>\n      <td>2</td>\n      <td>Snowing</td>\n      <td>Left Turn</td>\n      <td>4</td>\n    </tr>\n    <tr>\n      <th>180011</th>\n      <td>2</td>\n      <td>Overcast</td>\n      <td>Angles</td>\n      <td>1</td>\n    </tr>\n    <tr>\n      <th>180685</th>\n      <td>1</td>\n      <td>Partly Cloudy</td>\n      <td>Other</td>\n      <td>1</td>\n    </tr>\n    <tr>\n      <th>180825</th>\n      <td>1</td>\n      <td>Raining</td>\n      <td>Angles</td>\n      <td>6</td>\n    </tr>\n    <tr>\n      <th>180975</th>\n      <td>1</td>\n      <td>Raining</td>\n      <td>Sideswipe</td>\n      <td>1</td>\n    </tr>\n    <tr>\n      <th>182015</th>\n      <td>2</td>\n      <td>Partly Cloudy</td>\n      <td>Left Turn</td>\n      <td>2</td>\n    </tr>\n    <tr>\n      <th>183377</th>\n      <td>2</td>\n      <td>Other</td>\n      <td>Angles</td>\n      <td>1</td>\n    </tr>\n    <tr>\n      <th>183475</th>\n      <td>1</td>\n      <td>Fog/Smog/Smoke</td>\n      <td>Parked Car</td>\n      <td>4</td>\n    </tr>\n    <tr>\n      <th>184850</th>\n      <td>1</td>\n      <td>Fog/Smog/Smoke</td>\n      <td>Cycles</td>\n      <td>1</td>\n    </tr>\n    <tr>\n      <th>186079</th>\n      <td>1</td>\n      <td>Sleet/Hail/Freezing Rain</td>\n      <td>Left Turn</td>\n      <td>3</td>\n    </tr>\n    <tr>\n      <th>186308</th>\n      <td>1</td>\n      <td>Partly Cloudy</td>\n      <td>Parked Car</td>\n      <td>2</td>\n    </tr>\n    <tr>\n      <th>186684</th>\n      <td>2</td>\n      <td>Partly Cloudy</td>\n      <td>Angles</td>\n      <td>3</td>\n    </tr>\n    <tr>\n      <th>186787</th>\n      <td>1</td>\n      <td>Blowing Sand/Dirt</td>\n      <td>Left Turn</td>\n      <td>2</td>\n    </tr>\n    <tr>\n      <th>187775</th>\n      <td>2</td>\n      <td>Clear</td>\n      <td>Rear Ended</td>\n      <td>1</td>\n    </tr>\n    <tr>\n      <th>188399</th>\n      <td>2</td>\n      <td>Other</td>\n      <td>Cycles</td>\n      <td>0</td>\n    </tr>\n    <tr>\n      <th>192288</th>\n      <td>2</td>\n      <td>Clear</td>\n      <td>Pedestrian</td>\n      <td>5</td>\n    </tr>\n    <tr>\n      <th>193057</th>\n      <td>2</td>\n      <td>Partly Cloudy</td>\n      <td>Sideswipe</td>\n      <td>2</td>\n    </tr>\n    <tr>\n      <th>194631</th>\n      <td>2</td>\n      <td>Blowing Sand/Dirt</td>\n      <td>Pedestrian</td>\n      <td>1</td>\n    </tr>\n  </tbody>\n</table>\n<p>534 rows \u00d7 4 columns</p>\n</div>",
                        "text/plain": "        SEVERITYCODE                   WEATHER COLLISIONTYPE  VEHCOUNT\n0                  2                  Overcast        Angles         2\n1                  1                   Raining     Sideswipe         2\n2                  1                  Overcast    Parked Car         3\n3                  1                     Clear         Other         3\n4                  2                   Raining        Angles         2\n5                  1                     Clear        Angles         2\n6                  1                   Raining        Angles         2\n7                  2                     Clear        Cycles         1\n8                  1                     Clear    Parked Car         2\n9                  2                     Clear        Angles         2\n10                 1                  Overcast         Other         2\n12                 1                   Raining    Rear Ended         2\n13                 1                   Raining    Parked Car         2\n14                 2                     Clear       Head On         2\n16                 2                  Overcast     Left Turn         2\n17                 1                  Overcast    Rear Ended         2\n18                 2                     Clear    Rear Ended         3\n19                 1                   Unknown    Parked Car         2\n20                 2                     Clear    Rear Ended         2\n21                 2                     Clear        Angles         3\n23                 1                   Unknown         Other         1\n26                 1                  Overcast     Left Turn         2\n28                 1                     Clear         Other         2\n30                 1                   Raining     Left Turn         2\n31                 1                     Clear     Left Turn         2\n34                 1                     Other    Parked Car         2\n41                 1                  Overcast        Angles         2\n42                 1                     Clear    Rear Ended         2\n43                 2                   Raining         Other         1\n44                 1                  Overcast         Other         1\n...              ...                       ...           ...       ...\n165820             2                   Raining    Parked Car         7\n166427             2                  Overcast    Parked Car         8\n168078             2                   Unknown    Right Turn         3\n168466             1         Blowing Sand/Dirt         Other         1\n168471             2                     Clear    Rear Ended         9\n168893             2                     Other        Cycles         1\n170692             2          Severe Crosswind    Rear Ended         2\n172159             2            Fog/Smog/Smoke        Angles         4\n174097             1  Sleet/Hail/Freezing Rain     Left Turn         2\n174550             2                     Other    Rear Ended         4\n175792             2                   Raining     Sideswipe         6\n178871             1         Blowing Sand/Dirt     Sideswipe         3\n179091             2                   Snowing     Left Turn         4\n180011             2                  Overcast        Angles         1\n180685             1             Partly Cloudy         Other         1\n180825             1                   Raining        Angles         6\n180975             1                   Raining     Sideswipe         1\n182015             2             Partly Cloudy     Left Turn         2\n183377             2                     Other        Angles         1\n183475             1            Fog/Smog/Smoke    Parked Car         4\n184850             1            Fog/Smog/Smoke        Cycles         1\n186079             1  Sleet/Hail/Freezing Rain     Left Turn         3\n186308             1             Partly Cloudy    Parked Car         2\n186684             2             Partly Cloudy        Angles         3\n186787             1         Blowing Sand/Dirt     Left Turn         2\n187775             2                     Clear    Rear Ended         1\n188399             2                     Other        Cycles         0\n192288             2                     Clear    Pedestrian         5\n193057             2             Partly Cloudy     Sideswipe         2\n194631             2         Blowing Sand/Dirt    Pedestrian         1\n\n[534 rows x 4 columns]"
                    },
                    "execution_count": 55,
                    "metadata": {},
                    "output_type": "execute_result"
                }
            ],
            "source": "df.drop_duplicates()"
        },
        {
            "cell_type": "code",
            "execution_count": 56,
            "metadata": {},
            "outputs": [
                {
                    "data": {
                        "text/plain": "(189571, 4)"
                    },
                    "execution_count": 56,
                    "metadata": {},
                    "output_type": "execute_result"
                }
            ],
            "source": "df.shape"
        },
        {
            "cell_type": "code",
            "execution_count": 57,
            "metadata": {},
            "outputs": [
                {
                    "data": {
                        "text/plain": "1    132480\n2     57091\nName: SEVERITYCODE, dtype: int64"
                    },
                    "execution_count": 57,
                    "metadata": {},
                    "output_type": "execute_result"
                }
            ],
            "source": "df['SEVERITYCODE'].value_counts()"
        },
        {
            "cell_type": "code",
            "execution_count": 58,
            "metadata": {},
            "outputs": [],
            "source": "from sklearn.utils import resample"
        },
        {
            "cell_type": "code",
            "execution_count": 59,
            "metadata": {},
            "outputs": [
                {
                    "data": {
                        "text/plain": "2    57091\n1    57091\nName: SEVERITYCODE, dtype: int64"
                    },
                    "execution_count": 59,
                    "metadata": {},
                    "output_type": "execute_result"
                }
            ],
            "source": "df_max=df[df.SEVERITYCODE==1]\ndf_min=df[df.SEVERITYCODE==2]\n\ndf_max_sample=resample(df_max,replace=False, n_samples=57091, random_state=123)\n\nbalanced_df=pd.concat([df_max_sample,df_min])\n\nbalanced_df.SEVERITYCODE.value_counts()"
        },
        {
            "cell_type": "code",
            "execution_count": 60,
            "metadata": {},
            "outputs": [
                {
                    "data": {
                        "text/plain": "(114182, 4)"
                    },
                    "execution_count": 60,
                    "metadata": {},
                    "output_type": "execute_result"
                }
            ],
            "source": "balanced_df.shape"
        },
        {
            "cell_type": "code",
            "execution_count": 61,
            "metadata": {},
            "outputs": [
                {
                    "data": {
                        "text/plain": "Clear                       68303\nRaining                     20595\nOvercast                    16930\nUnknown                      6969\nSnowing                       490\nOther                         423\nFog/Smog/Smoke                359\nSleet/Hail/Freezing Rain       68\nBlowing Sand/Dirt              28\nSevere Crosswind               14\nPartly Cloudy                   3\nName: WEATHER, dtype: int64"
                    },
                    "execution_count": 61,
                    "metadata": {},
                    "output_type": "execute_result"
                }
            ],
            "source": "balanced_df['WEATHER'].value_counts()"
        },
        {
            "cell_type": "code",
            "execution_count": 62,
            "metadata": {},
            "outputs": [
                {
                    "data": {
                        "text/plain": "Rear Ended    23077\nAngles        22752\nParked Car    22062\nOther         13692\nSideswipe      9388\nLeft Turn      9004\nPedestrian     6196\nCycles         5037\nRight Turn     1612\nHead On        1362\nName: COLLISIONTYPE, dtype: int64"
                    },
                    "execution_count": 62,
                    "metadata": {},
                    "output_type": "execute_result"
                }
            ],
            "source": "balanced_df['COLLISIONTYPE'].value_counts()"
        },
        {
            "cell_type": "code",
            "execution_count": 63,
            "metadata": {},
            "outputs": [
                {
                    "data": {
                        "text/plain": "2     84049\n1     19104\n3      8654\n4      1647\n5       376\n0       195\n6       101\n7        33\n8        10\n9         6\n11        4\n10        2\n12        1\nName: VEHCOUNT, dtype: int64"
                    },
                    "execution_count": 63,
                    "metadata": {},
                    "output_type": "execute_result"
                }
            ],
            "source": "balanced_df['VEHCOUNT'].value_counts()"
        },
        {
            "cell_type": "markdown",
            "metadata": {},
            "source": "## Data Visualization"
        },
        {
            "cell_type": "code",
            "execution_count": 64,
            "metadata": {},
            "outputs": [
                {
                    "data": {
                        "text/plain": "<matplotlib.axes._subplots.AxesSubplot at 0x7f03029e20b8>"
                    },
                    "execution_count": 64,
                    "metadata": {},
                    "output_type": "execute_result"
                },
                {
                    "data": {
                        "image/png": "[encoded data removed]",
                        "text/plain": "<Figure size 720x360 with 1 Axes>"
                    },
                    "metadata": {
                        "needs_background": "light"
                    },
                    "output_type": "display_data"
                }
            ],
            "source": "plt.figure(figsize=(10,5))\nsns.countplot(x='SEVERITYCODE', hue='WEATHER', data=(balanced_df))"
        },
        {
            "cell_type": "markdown",
            "metadata": {},
            "source": "The figure above does not show much correlation between the severity code and weather. However, it shows that rainy weather is more likely to more severe car accidents causing injury."
        },
        {
            "cell_type": "code",
            "execution_count": 65,
            "metadata": {},
            "outputs": [
                {
                    "data": {
                        "text/plain": "<matplotlib.axes._subplots.AxesSubplot at 0x7f03029e2048>"
                    },
                    "execution_count": 65,
                    "metadata": {},
                    "output_type": "execute_result"
                },
                {
                    "data": {
                        "image/png": "[encoded data removed]",
                        "text/plain": "<Figure size 720x360 with 1 Axes>"
                    },
                    "metadata": {
                        "needs_background": "light"
                    },
                    "output_type": "display_data"
                }
            ],
            "source": "plt.figure(figsize=(10,5))\nsns.countplot(x='SEVERITYCODE', hue='VEHCOUNT', data=(balanced_df))"
        },
        {
            "cell_type": "markdown",
            "metadata": {},
            "source": "The graph above shows that most car accidents occur between 2 vehicles leading mostly to property damage rather than injury. In addition, car accidents involving only 1 or 3 vehicles are shown to be severe."
        },
        {
            "cell_type": "code",
            "execution_count": 66,
            "metadata": {},
            "outputs": [
                {
                    "data": {
                        "text/plain": "<matplotlib.axes._subplots.AxesSubplot at 0x7f03029e77f0>"
                    },
                    "execution_count": 66,
                    "metadata": {},
                    "output_type": "execute_result"
                },
                {
                    "data": {
                        "image/png": "[encoded data removed]",
                        "text/plain": "<Figure size 720x360 with 1 Axes>"
                    },
                    "metadata": {
                        "needs_background": "light"
                    },
                    "output_type": "display_data"
                }
            ],
            "source": "plt.figure(figsize=(10,5))\nsns.countplot(x='SEVERITYCODE', hue='COLLISIONTYPE', data=(balanced_df))"
        },
        {
            "cell_type": "markdown",
            "metadata": {},
            "source": "The above chart shows a good correlation between the severity code and the collision type. For instance, it shows that parked cars aren't as severe as rear ended or angled collisions. "
        },
        {
            "cell_type": "markdown",
            "metadata": {},
            "source": "## Machine Learning"
        },
        {
            "cell_type": "markdown",
            "metadata": {},
            "source": "For the machine learning model, we will focus on **WEATHER** and **COLLISIONTYPE** as our prime variables since VEHCOUNT does not provide a good correlation with SEVERITYCODE."
        },
        {
            "cell_type": "code",
            "execution_count": 67,
            "metadata": {},
            "outputs": [
                {
                    "data": {
                        "text/html": "<div>\n<style scoped>\n    .dataframe tbody tr th:only-of-type {\n        vertical-align: middle;\n    }\n\n    .dataframe tbody tr th {\n        vertical-align: top;\n    }\n\n    .dataframe thead th {\n        text-align: right;\n    }\n</style>\n<table border=\"1\" class=\"dataframe\">\n  <thead>\n    <tr style=\"text-align: right;\">\n      <th></th>\n      <th>SEVERITYCODE</th>\n      <th>WEATHER</th>\n      <th>COLLISIONTYPE</th>\n    </tr>\n  </thead>\n  <tbody>\n    <tr>\n      <th>95621</th>\n      <td>1</td>\n      <td>Raining</td>\n      <td>Rear Ended</td>\n    </tr>\n    <tr>\n      <th>5230</th>\n      <td>1</td>\n      <td>Clear</td>\n      <td>Angles</td>\n    </tr>\n    <tr>\n      <th>29261</th>\n      <td>1</td>\n      <td>Raining</td>\n      <td>Rear Ended</td>\n    </tr>\n    <tr>\n      <th>131157</th>\n      <td>1</td>\n      <td>Clear</td>\n      <td>Parked Car</td>\n    </tr>\n    <tr>\n      <th>36942</th>\n      <td>1</td>\n      <td>Clear</td>\n      <td>Parked Car</td>\n    </tr>\n  </tbody>\n</table>\n</div>",
                        "text/plain": "        SEVERITYCODE  WEATHER COLLISIONTYPE\n95621              1  Raining    Rear Ended\n5230               1    Clear        Angles\n29261              1  Raining    Rear Ended\n131157             1    Clear    Parked Car\n36942              1    Clear    Parked Car"
                    },
                    "execution_count": 67,
                    "metadata": {},
                    "output_type": "execute_result"
                }
            ],
            "source": "final_df=balanced_df.loc[:,['SEVERITYCODE','WEATHER','COLLISIONTYPE']]\nfinal_df.head(5)"
        },
        {
            "cell_type": "code",
            "execution_count": 68,
            "metadata": {},
            "outputs": [
                {
                    "data": {
                        "text/html": "<div>\n<style scoped>\n    .dataframe tbody tr th:only-of-type {\n        vertical-align: middle;\n    }\n\n    .dataframe tbody tr th {\n        vertical-align: top;\n    }\n\n    .dataframe thead th {\n        text-align: right;\n    }\n</style>\n<table border=\"1\" class=\"dataframe\">\n  <thead>\n    <tr style=\"text-align: right;\">\n      <th></th>\n      <th>SEVERITYCODE</th>\n      <th>WEATHER</th>\n      <th>COLLISIONTYPE</th>\n    </tr>\n  </thead>\n  <tbody>\n    <tr>\n      <th>95621</th>\n      <td>1</td>\n      <td>Raining</td>\n      <td>Rear Ended</td>\n    </tr>\n    <tr>\n      <th>5230</th>\n      <td>1</td>\n      <td>Clear</td>\n      <td>Angles</td>\n    </tr>\n    <tr>\n      <th>131157</th>\n      <td>1</td>\n      <td>Clear</td>\n      <td>Parked Car</td>\n    </tr>\n    <tr>\n      <th>118711</th>\n      <td>1</td>\n      <td>Raining</td>\n      <td>Angles</td>\n    </tr>\n    <tr>\n      <th>58024</th>\n      <td>1</td>\n      <td>Unknown</td>\n      <td>Parked Car</td>\n    </tr>\n    <tr>\n      <th>118973</th>\n      <td>1</td>\n      <td>Clear</td>\n      <td>Other</td>\n    </tr>\n    <tr>\n      <th>69691</th>\n      <td>1</td>\n      <td>Overcast</td>\n      <td>Rear Ended</td>\n    </tr>\n    <tr>\n      <th>191859</th>\n      <td>1</td>\n      <td>Overcast</td>\n      <td>Sideswipe</td>\n    </tr>\n    <tr>\n      <th>25751</th>\n      <td>1</td>\n      <td>Fog/Smog/Smoke</td>\n      <td>Rear Ended</td>\n    </tr>\n    <tr>\n      <th>30085</th>\n      <td>1</td>\n      <td>Raining</td>\n      <td>Pedestrian</td>\n    </tr>\n    <tr>\n      <th>44835</th>\n      <td>1</td>\n      <td>Raining</td>\n      <td>Other</td>\n    </tr>\n    <tr>\n      <th>116893</th>\n      <td>1</td>\n      <td>Clear</td>\n      <td>Sideswipe</td>\n    </tr>\n    <tr>\n      <th>194243</th>\n      <td>1</td>\n      <td>Overcast</td>\n      <td>Parked Car</td>\n    </tr>\n    <tr>\n      <th>65438</th>\n      <td>1</td>\n      <td>Raining</td>\n      <td>Sideswipe</td>\n    </tr>\n    <tr>\n      <th>137510</th>\n      <td>1</td>\n      <td>Raining</td>\n      <td>Parked Car</td>\n    </tr>\n    <tr>\n      <th>105361</th>\n      <td>1</td>\n      <td>Overcast</td>\n      <td>Other</td>\n    </tr>\n    <tr>\n      <th>110477</th>\n      <td>1</td>\n      <td>Clear</td>\n      <td>Right Turn</td>\n    </tr>\n    <tr>\n      <th>37972</th>\n      <td>1</td>\n      <td>Clear</td>\n      <td>Rear Ended</td>\n    </tr>\n    <tr>\n      <th>41338</th>\n      <td>1</td>\n      <td>Unknown</td>\n      <td>Angles</td>\n    </tr>\n    <tr>\n      <th>135579</th>\n      <td>1</td>\n      <td>Unknown</td>\n      <td>Sideswipe</td>\n    </tr>\n    <tr>\n      <th>11639</th>\n      <td>1</td>\n      <td>Clear</td>\n      <td>Left Turn</td>\n    </tr>\n    <tr>\n      <th>54385</th>\n      <td>1</td>\n      <td>Other</td>\n      <td>Sideswipe</td>\n    </tr>\n    <tr>\n      <th>121314</th>\n      <td>1</td>\n      <td>Unknown</td>\n      <td>Left Turn</td>\n    </tr>\n    <tr>\n      <th>60023</th>\n      <td>1</td>\n      <td>Unknown</td>\n      <td>Other</td>\n    </tr>\n    <tr>\n      <th>84057</th>\n      <td>1</td>\n      <td>Clear</td>\n      <td>Cycles</td>\n    </tr>\n    <tr>\n      <th>42996</th>\n      <td>1</td>\n      <td>Overcast</td>\n      <td>Angles</td>\n    </tr>\n    <tr>\n      <th>52379</th>\n      <td>1</td>\n      <td>Raining</td>\n      <td>Left Turn</td>\n    </tr>\n    <tr>\n      <th>138917</th>\n      <td>1</td>\n      <td>Fog/Smog/Smoke</td>\n      <td>Sideswipe</td>\n    </tr>\n    <tr>\n      <th>151710</th>\n      <td>1</td>\n      <td>Overcast</td>\n      <td>Right Turn</td>\n    </tr>\n    <tr>\n      <th>173474</th>\n      <td>1</td>\n      <td>Snowing</td>\n      <td>Parked Car</td>\n    </tr>\n    <tr>\n      <th>...</th>\n      <td>...</td>\n      <td>...</td>\n      <td>...</td>\n    </tr>\n    <tr>\n      <th>26114</th>\n      <td>2</td>\n      <td>Snowing</td>\n      <td>Left Turn</td>\n    </tr>\n    <tr>\n      <th>26298</th>\n      <td>2</td>\n      <td>Unknown</td>\n      <td>Parked Car</td>\n    </tr>\n    <tr>\n      <th>28119</th>\n      <td>2</td>\n      <td>Fog/Smog/Smoke</td>\n      <td>Right Turn</td>\n    </tr>\n    <tr>\n      <th>28649</th>\n      <td>2</td>\n      <td>Blowing Sand/Dirt</td>\n      <td>Sideswipe</td>\n    </tr>\n    <tr>\n      <th>29977</th>\n      <td>2</td>\n      <td>Fog/Smog/Smoke</td>\n      <td>Head On</td>\n    </tr>\n    <tr>\n      <th>31059</th>\n      <td>2</td>\n      <td>Snowing</td>\n      <td>Rear Ended</td>\n    </tr>\n    <tr>\n      <th>31595</th>\n      <td>2</td>\n      <td>Other</td>\n      <td>Sideswipe</td>\n    </tr>\n    <tr>\n      <th>31981</th>\n      <td>2</td>\n      <td>Snowing</td>\n      <td>Head On</td>\n    </tr>\n    <tr>\n      <th>32174</th>\n      <td>2</td>\n      <td>Snowing</td>\n      <td>Parked Car</td>\n    </tr>\n    <tr>\n      <th>40771</th>\n      <td>2</td>\n      <td>Sleet/Hail/Freezing Rain</td>\n      <td>Angles</td>\n    </tr>\n    <tr>\n      <th>41697</th>\n      <td>2</td>\n      <td>Severe Crosswind</td>\n      <td>Other</td>\n    </tr>\n    <tr>\n      <th>51149</th>\n      <td>2</td>\n      <td>Unknown</td>\n      <td>Right Turn</td>\n    </tr>\n    <tr>\n      <th>67416</th>\n      <td>2</td>\n      <td>Blowing Sand/Dirt</td>\n      <td>Angles</td>\n    </tr>\n    <tr>\n      <th>69459</th>\n      <td>2</td>\n      <td>Snowing</td>\n      <td>Sideswipe</td>\n    </tr>\n    <tr>\n      <th>69828</th>\n      <td>2</td>\n      <td>Blowing Sand/Dirt</td>\n      <td>Other</td>\n    </tr>\n    <tr>\n      <th>71788</th>\n      <td>2</td>\n      <td>Fog/Smog/Smoke</td>\n      <td>Pedestrian</td>\n    </tr>\n    <tr>\n      <th>72916</th>\n      <td>2</td>\n      <td>Snowing</td>\n      <td>Right Turn</td>\n    </tr>\n    <tr>\n      <th>76436</th>\n      <td>2</td>\n      <td>Blowing Sand/Dirt</td>\n      <td>Parked Car</td>\n    </tr>\n    <tr>\n      <th>76488</th>\n      <td>2</td>\n      <td>Blowing Sand/Dirt</td>\n      <td>Left Turn</td>\n    </tr>\n    <tr>\n      <th>98302</th>\n      <td>2</td>\n      <td>Severe Crosswind</td>\n      <td>Angles</td>\n    </tr>\n    <tr>\n      <th>126807</th>\n      <td>2</td>\n      <td>Other</td>\n      <td>Right Turn</td>\n    </tr>\n    <tr>\n      <th>149607</th>\n      <td>2</td>\n      <td>Fog/Smog/Smoke</td>\n      <td>Cycles</td>\n    </tr>\n    <tr>\n      <th>158151</th>\n      <td>2</td>\n      <td>Blowing Sand/Dirt</td>\n      <td>Cycles</td>\n    </tr>\n    <tr>\n      <th>162074</th>\n      <td>2</td>\n      <td>Snowing</td>\n      <td>Cycles</td>\n    </tr>\n    <tr>\n      <th>168893</th>\n      <td>2</td>\n      <td>Other</td>\n      <td>Cycles</td>\n    </tr>\n    <tr>\n      <th>170692</th>\n      <td>2</td>\n      <td>Severe Crosswind</td>\n      <td>Rear Ended</td>\n    </tr>\n    <tr>\n      <th>182015</th>\n      <td>2</td>\n      <td>Partly Cloudy</td>\n      <td>Left Turn</td>\n    </tr>\n    <tr>\n      <th>186684</th>\n      <td>2</td>\n      <td>Partly Cloudy</td>\n      <td>Angles</td>\n    </tr>\n    <tr>\n      <th>193057</th>\n      <td>2</td>\n      <td>Partly Cloudy</td>\n      <td>Sideswipe</td>\n    </tr>\n    <tr>\n      <th>194631</th>\n      <td>2</td>\n      <td>Blowing Sand/Dirt</td>\n      <td>Pedestrian</td>\n    </tr>\n  </tbody>\n</table>\n<p>176 rows \u00d7 3 columns</p>\n</div>",
                        "text/plain": "        SEVERITYCODE                   WEATHER COLLISIONTYPE\n95621              1                   Raining    Rear Ended\n5230               1                     Clear        Angles\n131157             1                     Clear    Parked Car\n118711             1                   Raining        Angles\n58024              1                   Unknown    Parked Car\n118973             1                     Clear         Other\n69691              1                  Overcast    Rear Ended\n191859             1                  Overcast     Sideswipe\n25751              1            Fog/Smog/Smoke    Rear Ended\n30085              1                   Raining    Pedestrian\n44835              1                   Raining         Other\n116893             1                     Clear     Sideswipe\n194243             1                  Overcast    Parked Car\n65438              1                   Raining     Sideswipe\n137510             1                   Raining    Parked Car\n105361             1                  Overcast         Other\n110477             1                     Clear    Right Turn\n37972              1                     Clear    Rear Ended\n41338              1                   Unknown        Angles\n135579             1                   Unknown     Sideswipe\n11639              1                     Clear     Left Turn\n54385              1                     Other     Sideswipe\n121314             1                   Unknown     Left Turn\n60023              1                   Unknown         Other\n84057              1                     Clear        Cycles\n42996              1                  Overcast        Angles\n52379              1                   Raining     Left Turn\n138917             1            Fog/Smog/Smoke     Sideswipe\n151710             1                  Overcast    Right Turn\n173474             1                   Snowing    Parked Car\n...              ...                       ...           ...\n26114              2                   Snowing     Left Turn\n26298              2                   Unknown    Parked Car\n28119              2            Fog/Smog/Smoke    Right Turn\n28649              2         Blowing Sand/Dirt     Sideswipe\n29977              2            Fog/Smog/Smoke       Head On\n31059              2                   Snowing    Rear Ended\n31595              2                     Other     Sideswipe\n31981              2                   Snowing       Head On\n32174              2                   Snowing    Parked Car\n40771              2  Sleet/Hail/Freezing Rain        Angles\n41697              2          Severe Crosswind         Other\n51149              2                   Unknown    Right Turn\n67416              2         Blowing Sand/Dirt        Angles\n69459              2                   Snowing     Sideswipe\n69828              2         Blowing Sand/Dirt         Other\n71788              2            Fog/Smog/Smoke    Pedestrian\n72916              2                   Snowing    Right Turn\n76436              2         Blowing Sand/Dirt    Parked Car\n76488              2         Blowing Sand/Dirt     Left Turn\n98302              2          Severe Crosswind        Angles\n126807             2                     Other    Right Turn\n149607             2            Fog/Smog/Smoke        Cycles\n158151             2         Blowing Sand/Dirt        Cycles\n162074             2                   Snowing        Cycles\n168893             2                     Other        Cycles\n170692             2          Severe Crosswind    Rear Ended\n182015             2             Partly Cloudy     Left Turn\n186684             2             Partly Cloudy        Angles\n193057             2             Partly Cloudy     Sideswipe\n194631             2         Blowing Sand/Dirt    Pedestrian\n\n[176 rows x 3 columns]"
                    },
                    "execution_count": 68,
                    "metadata": {},
                    "output_type": "execute_result"
                }
            ],
            "source": "final_df.drop_duplicates()"
        },
        {
            "cell_type": "code",
            "execution_count": 69,
            "metadata": {},
            "outputs": [
                {
                    "data": {
                        "text/html": "<div>\n<style scoped>\n    .dataframe tbody tr th:only-of-type {\n        vertical-align: middle;\n    }\n\n    .dataframe tbody tr th {\n        vertical-align: top;\n    }\n\n    .dataframe thead th {\n        text-align: right;\n    }\n</style>\n<table border=\"1\" class=\"dataframe\">\n  <thead>\n    <tr style=\"text-align: right;\">\n      <th></th>\n      <th>SEVERITYCODE</th>\n      <th>WEATHER_Blowing Sand/Dirt</th>\n      <th>WEATHER_Clear</th>\n      <th>WEATHER_Fog/Smog/Smoke</th>\n      <th>WEATHER_Other</th>\n      <th>WEATHER_Overcast</th>\n      <th>WEATHER_Partly Cloudy</th>\n      <th>WEATHER_Raining</th>\n      <th>WEATHER_Severe Crosswind</th>\n      <th>WEATHER_Sleet/Hail/Freezing Rain</th>\n      <th>...</th>\n      <th>COLLISIONTYPE_Angles</th>\n      <th>COLLISIONTYPE_Cycles</th>\n      <th>COLLISIONTYPE_Head On</th>\n      <th>COLLISIONTYPE_Left Turn</th>\n      <th>COLLISIONTYPE_Other</th>\n      <th>COLLISIONTYPE_Parked Car</th>\n      <th>COLLISIONTYPE_Pedestrian</th>\n      <th>COLLISIONTYPE_Rear Ended</th>\n      <th>COLLISIONTYPE_Right Turn</th>\n      <th>COLLISIONTYPE_Sideswipe</th>\n    </tr>\n  </thead>\n  <tbody>\n    <tr>\n      <th>95621</th>\n      <td>1</td>\n      <td>0</td>\n      <td>0</td>\n      <td>0</td>\n      <td>0</td>\n      <td>0</td>\n      <td>0</td>\n      <td>1</td>\n      <td>0</td>\n      <td>0</td>\n      <td>...</td>\n      <td>0</td>\n      <td>0</td>\n      <td>0</td>\n      <td>0</td>\n      <td>0</td>\n      <td>0</td>\n      <td>0</td>\n      <td>1</td>\n      <td>0</td>\n      <td>0</td>\n    </tr>\n    <tr>\n      <th>5230</th>\n      <td>1</td>\n      <td>0</td>\n      <td>1</td>\n      <td>0</td>\n      <td>0</td>\n      <td>0</td>\n      <td>0</td>\n      <td>0</td>\n      <td>0</td>\n      <td>0</td>\n      <td>...</td>\n      <td>1</td>\n      <td>0</td>\n      <td>0</td>\n      <td>0</td>\n      <td>0</td>\n      <td>0</td>\n      <td>0</td>\n      <td>0</td>\n      <td>0</td>\n      <td>0</td>\n    </tr>\n    <tr>\n      <th>29261</th>\n      <td>1</td>\n      <td>0</td>\n      <td>0</td>\n      <td>0</td>\n      <td>0</td>\n      <td>0</td>\n      <td>0</td>\n      <td>1</td>\n      <td>0</td>\n      <td>0</td>\n      <td>...</td>\n      <td>0</td>\n      <td>0</td>\n      <td>0</td>\n      <td>0</td>\n      <td>0</td>\n      <td>0</td>\n      <td>0</td>\n      <td>1</td>\n      <td>0</td>\n      <td>0</td>\n    </tr>\n    <tr>\n      <th>131157</th>\n      <td>1</td>\n      <td>0</td>\n      <td>1</td>\n      <td>0</td>\n      <td>0</td>\n      <td>0</td>\n      <td>0</td>\n      <td>0</td>\n      <td>0</td>\n      <td>0</td>\n      <td>...</td>\n      <td>0</td>\n      <td>0</td>\n      <td>0</td>\n      <td>0</td>\n      <td>0</td>\n      <td>1</td>\n      <td>0</td>\n      <td>0</td>\n      <td>0</td>\n      <td>0</td>\n    </tr>\n    <tr>\n      <th>36942</th>\n      <td>1</td>\n      <td>0</td>\n      <td>1</td>\n      <td>0</td>\n      <td>0</td>\n      <td>0</td>\n      <td>0</td>\n      <td>0</td>\n      <td>0</td>\n      <td>0</td>\n      <td>...</td>\n      <td>0</td>\n      <td>0</td>\n      <td>0</td>\n      <td>0</td>\n      <td>0</td>\n      <td>1</td>\n      <td>0</td>\n      <td>0</td>\n      <td>0</td>\n      <td>0</td>\n    </tr>\n    <tr>\n      <th>30120</th>\n      <td>1</td>\n      <td>0</td>\n      <td>1</td>\n      <td>0</td>\n      <td>0</td>\n      <td>0</td>\n      <td>0</td>\n      <td>0</td>\n      <td>0</td>\n      <td>0</td>\n      <td>...</td>\n      <td>0</td>\n      <td>0</td>\n      <td>0</td>\n      <td>0</td>\n      <td>0</td>\n      <td>1</td>\n      <td>0</td>\n      <td>0</td>\n      <td>0</td>\n      <td>0</td>\n    </tr>\n    <tr>\n      <th>118711</th>\n      <td>1</td>\n      <td>0</td>\n      <td>0</td>\n      <td>0</td>\n      <td>0</td>\n      <td>0</td>\n      <td>0</td>\n      <td>1</td>\n      <td>0</td>\n      <td>0</td>\n      <td>...</td>\n      <td>1</td>\n      <td>0</td>\n      <td>0</td>\n      <td>0</td>\n      <td>0</td>\n      <td>0</td>\n      <td>0</td>\n      <td>0</td>\n      <td>0</td>\n      <td>0</td>\n    </tr>\n    <tr>\n      <th>58024</th>\n      <td>1</td>\n      <td>0</td>\n      <td>0</td>\n      <td>0</td>\n      <td>0</td>\n      <td>0</td>\n      <td>0</td>\n      <td>0</td>\n      <td>0</td>\n      <td>0</td>\n      <td>...</td>\n      <td>0</td>\n      <td>0</td>\n      <td>0</td>\n      <td>0</td>\n      <td>0</td>\n      <td>1</td>\n      <td>0</td>\n      <td>0</td>\n      <td>0</td>\n      <td>0</td>\n    </tr>\n    <tr>\n      <th>92981</th>\n      <td>1</td>\n      <td>0</td>\n      <td>0</td>\n      <td>0</td>\n      <td>0</td>\n      <td>0</td>\n      <td>0</td>\n      <td>1</td>\n      <td>0</td>\n      <td>0</td>\n      <td>...</td>\n      <td>1</td>\n      <td>0</td>\n      <td>0</td>\n      <td>0</td>\n      <td>0</td>\n      <td>0</td>\n      <td>0</td>\n      <td>0</td>\n      <td>0</td>\n      <td>0</td>\n    </tr>\n    <tr>\n      <th>118973</th>\n      <td>1</td>\n      <td>0</td>\n      <td>1</td>\n      <td>0</td>\n      <td>0</td>\n      <td>0</td>\n      <td>0</td>\n      <td>0</td>\n      <td>0</td>\n      <td>0</td>\n      <td>...</td>\n      <td>0</td>\n      <td>0</td>\n      <td>0</td>\n      <td>0</td>\n      <td>1</td>\n      <td>0</td>\n      <td>0</td>\n      <td>0</td>\n      <td>0</td>\n      <td>0</td>\n    </tr>\n  </tbody>\n</table>\n<p>10 rows \u00d7 22 columns</p>\n</div>",
                        "text/plain": "        SEVERITYCODE  WEATHER_Blowing Sand/Dirt  WEATHER_Clear  \\\n95621              1                          0              0   \n5230               1                          0              1   \n29261              1                          0              0   \n131157             1                          0              1   \n36942              1                          0              1   \n30120              1                          0              1   \n118711             1                          0              0   \n58024              1                          0              0   \n92981              1                          0              0   \n118973             1                          0              1   \n\n        WEATHER_Fog/Smog/Smoke  WEATHER_Other  WEATHER_Overcast  \\\n95621                        0              0                 0   \n5230                         0              0                 0   \n29261                        0              0                 0   \n131157                       0              0                 0   \n36942                        0              0                 0   \n30120                        0              0                 0   \n118711                       0              0                 0   \n58024                        0              0                 0   \n92981                        0              0                 0   \n118973                       0              0                 0   \n\n        WEATHER_Partly Cloudy  WEATHER_Raining  WEATHER_Severe Crosswind  \\\n95621                       0                1                         0   \n5230                        0                0                         0   \n29261                       0                1                         0   \n131157                      0                0                         0   \n36942                       0                0                         0   \n30120                       0                0                         0   \n118711                      0                1                         0   \n58024                       0                0                         0   \n92981                       0                1                         0   \n118973                      0                0                         0   \n\n        WEATHER_Sleet/Hail/Freezing Rain  ...  COLLISIONTYPE_Angles  \\\n95621                                  0  ...                     0   \n5230                                   0  ...                     1   \n29261                                  0  ...                     0   \n131157                                 0  ...                     0   \n36942                                  0  ...                     0   \n30120                                  0  ...                     0   \n118711                                 0  ...                     1   \n58024                                  0  ...                     0   \n92981                                  0  ...                     1   \n118973                                 0  ...                     0   \n\n        COLLISIONTYPE_Cycles  COLLISIONTYPE_Head On  COLLISIONTYPE_Left Turn  \\\n95621                      0                      0                        0   \n5230                       0                      0                        0   \n29261                      0                      0                        0   \n131157                     0                      0                        0   \n36942                      0                      0                        0   \n30120                      0                      0                        0   \n118711                     0                      0                        0   \n58024                      0                      0                        0   \n92981                      0                      0                        0   \n118973                     0                      0                        0   \n\n        COLLISIONTYPE_Other  COLLISIONTYPE_Parked Car  \\\n95621                     0                         0   \n5230                      0                         0   \n29261                     0                         0   \n131157                    0                         1   \n36942                     0                         1   \n30120                     0                         1   \n118711                    0                         0   \n58024                     0                         1   \n92981                     0                         0   \n118973                    1                         0   \n\n        COLLISIONTYPE_Pedestrian  COLLISIONTYPE_Rear Ended  \\\n95621                          0                         1   \n5230                           0                         0   \n29261                          0                         1   \n131157                         0                         0   \n36942                          0                         0   \n30120                          0                         0   \n118711                         0                         0   \n58024                          0                         0   \n92981                          0                         0   \n118973                         0                         0   \n\n        COLLISIONTYPE_Right Turn  COLLISIONTYPE_Sideswipe  \n95621                          0                        0  \n5230                           0                        0  \n29261                          0                        0  \n131157                         0                        0  \n36942                          0                        0  \n30120                          0                        0  \n118711                         0                        0  \n58024                          0                        0  \n92981                          0                        0  \n118973                         0                        0  \n\n[10 rows x 22 columns]"
                    },
                    "execution_count": 69,
                    "metadata": {},
                    "output_type": "execute_result"
                }
            ],
            "source": "X = pd.get_dummies(data=final_df, columns=['WEATHER','COLLISIONTYPE'])\ny = balanced_df[['SEVERITYCODE']].values\nX.head(10)"
        },
        {
            "cell_type": "code",
            "execution_count": 70,
            "metadata": {},
            "outputs": [
                {
                    "name": "stdout",
                    "output_type": "stream",
                    "text": "Train set: (91345, 22) (91345, 1)\nTest set: (22837, 22) (22837, 1)\n"
                }
            ],
            "source": "from sklearn.model_selection import train_test_split\nX_train, X_test, y_train, y_test = train_test_split( X, y, test_size=0.2, random_state=4)\nprint ('Train set:', X_train.shape,  y_train.shape)\nprint ('Test set:', X_test.shape,  y_test.shape)"
        },
        {
            "cell_type": "code",
            "execution_count": 71,
            "metadata": {},
            "outputs": [
                {
                    "name": "stderr",
                    "output_type": "stream",
                    "text": "/opt/conda/envs/Python36/lib/python3.6/site-packages/sklearn/preprocessing/data.py:645: DataConversionWarning: Data with input dtype uint8, int64 were all converted to float64 by StandardScaler.\n  return self.partial_fit(X, y)\n/opt/conda/envs/Python36/lib/python3.6/site-packages/ipykernel/__main__.py:3: DataConversionWarning: Data with input dtype uint8, int64 were all converted to float64 by StandardScaler.\n  app.launch_new_instance()\n"
                },
                {
                    "data": {
                        "text/plain": "array([[-1.        , -0.0156615 , -1.22014914, -0.05616066, -0.06097858,\n        -0.41723354, -0.00512587,  2.13170383, -0.01107368, -0.02441097,\n        -0.06564975, -0.25495381, -0.49884478, -0.21482462, -0.10987414,\n        -0.29258718, -0.36912378, -0.48937916, -0.23953665,  1.9869248 ,\n        -0.11966611, -0.299308  ],\n       [-1.        , -0.0156615 ,  0.81957194, -0.05616066, -0.06097858,\n        -0.41723354, -0.00512587, -0.46910832, -0.01107368, -0.02441097,\n        -0.06564975, -0.25495381,  2.00463159, -0.21482462, -0.10987414,\n        -0.29258718, -0.36912378, -0.48937916, -0.23953665, -0.50329031,\n        -0.11966611, -0.299308  ],\n       [-1.        , -0.0156615 , -1.22014914, -0.05616066, -0.06097858,\n        -0.41723354, -0.00512587,  2.13170383, -0.01107368, -0.02441097,\n        -0.06564975, -0.25495381, -0.49884478, -0.21482462, -0.10987414,\n        -0.29258718, -0.36912378, -0.48937916, -0.23953665,  1.9869248 ,\n        -0.11966611, -0.299308  ],\n       [-1.        , -0.0156615 ,  0.81957194, -0.05616066, -0.06097858,\n        -0.41723354, -0.00512587, -0.46910832, -0.01107368, -0.02441097,\n        -0.06564975, -0.25495381, -0.49884478, -0.21482462, -0.10987414,\n        -0.29258718, -0.36912378,  2.04340534, -0.23953665, -0.50329031,\n        -0.11966611, -0.299308  ],\n       [-1.        , -0.0156615 ,  0.81957194, -0.05616066, -0.06097858,\n        -0.41723354, -0.00512587, -0.46910832, -0.01107368, -0.02441097,\n        -0.06564975, -0.25495381, -0.49884478, -0.21482462, -0.10987414,\n        -0.29258718, -0.36912378,  2.04340534, -0.23953665, -0.50329031,\n        -0.11966611, -0.299308  ]])"
                    },
                    "execution_count": 71,
                    "metadata": {},
                    "output_type": "execute_result"
                }
            ],
            "source": "from sklearn import preprocessing\nfrom sklearn.preprocessing import StandardScaler\nX= preprocessing.StandardScaler().fit(X).transform(X)\nX[0:5]"
        },
        {
            "cell_type": "markdown",
            "metadata": {},
            "source": "#### K Nearest Neighbours"
        },
        {
            "cell_type": "code",
            "execution_count": 72,
            "metadata": {},
            "outputs": [
                {
                    "name": "stderr",
                    "output_type": "stream",
                    "text": "/opt/conda/envs/Python36/lib/python3.6/site-packages/ipykernel/__main__.py:3: DataConversionWarning: A column-vector y was passed when a 1d array was expected. Please change the shape of y to (n_samples, ), for example using ravel().\n  app.launch_new_instance()\n"
                }
            ],
            "source": "from sklearn.neighbors import KNeighborsClassifier\nk=17\nKNN_model=KNeighborsClassifier(n_neighbors=k).fit(X_train, y_train)"
        },
        {
            "cell_type": "code",
            "execution_count": 73,
            "metadata": {},
            "outputs": [],
            "source": "yhat = KNN_model.predict(X_test)"
        },
        {
            "cell_type": "code",
            "execution_count": 74,
            "metadata": {},
            "outputs": [
                {
                    "data": {
                        "text/plain": "array([1, 1, 2, 1, 2])"
                    },
                    "execution_count": 74,
                    "metadata": {},
                    "output_type": "execute_result"
                }
            ],
            "source": "yhat[0:5]"
        },
        {
            "cell_type": "markdown",
            "metadata": {},
            "source": "#### KNN Evaluation"
        },
        {
            "cell_type": "code",
            "execution_count": 75,
            "metadata": {},
            "outputs": [
                {
                    "data": {
                        "text/plain": "0.9995183255243684"
                    },
                    "execution_count": 75,
                    "metadata": {},
                    "output_type": "execute_result"
                }
            ],
            "source": "from sklearn.metrics import jaccard_similarity_score\njaccard_similarity_score(y_test, yhat)"
        },
        {
            "cell_type": "code",
            "execution_count": 76,
            "metadata": {},
            "outputs": [
                {
                    "data": {
                        "text/plain": "0.9995183259307505"
                    },
                    "execution_count": 76,
                    "metadata": {},
                    "output_type": "execute_result"
                }
            ],
            "source": "from sklearn.metrics import f1_score\nf1_score(y_test, yhat, average='weighted')"
        },
        {
            "cell_type": "markdown",
            "metadata": {},
            "source": "#### Decision Tree"
        },
        {
            "cell_type": "code",
            "execution_count": 77,
            "metadata": {},
            "outputs": [
                {
                    "data": {
                        "text/plain": "DecisionTreeClassifier(class_weight=None, criterion='entropy', max_depth=4,\n            max_features=None, max_leaf_nodes=None,\n            min_impurity_decrease=0.0, min_impurity_split=None,\n            min_samples_leaf=1, min_samples_split=2,\n            min_weight_fraction_leaf=0.0, presort=False, random_state=None,\n            splitter='best')"
                    },
                    "execution_count": 77,
                    "metadata": {},
                    "output_type": "execute_result"
                }
            ],
            "source": "from sklearn.tree import DecisionTreeClassifier\nDT = DecisionTreeClassifier(criterion=\"entropy\", max_depth = 4)\nDT"
        },
        {
            "cell_type": "code",
            "execution_count": 78,
            "metadata": {},
            "outputs": [
                {
                    "data": {
                        "text/plain": "DecisionTreeClassifier(class_weight=None, criterion='entropy', max_depth=4,\n            max_features=None, max_leaf_nodes=None,\n            min_impurity_decrease=0.0, min_impurity_split=None,\n            min_samples_leaf=1, min_samples_split=2,\n            min_weight_fraction_leaf=0.0, presort=False, random_state=None,\n            splitter='best')"
                    },
                    "execution_count": 78,
                    "metadata": {},
                    "output_type": "execute_result"
                }
            ],
            "source": "DT.fit(X_train,y_train)"
        },
        {
            "cell_type": "code",
            "execution_count": 79,
            "metadata": {},
            "outputs": [
                {
                    "data": {
                        "text/plain": "array([1, 1, 2, ..., 1, 1, 2])"
                    },
                    "execution_count": 79,
                    "metadata": {},
                    "output_type": "execute_result"
                }
            ],
            "source": "predTree = DT.predict(X_test)\npredTree"
        },
        {
            "cell_type": "markdown",
            "metadata": {},
            "source": "#### Decision Tree Evaluation"
        },
        {
            "cell_type": "code",
            "execution_count": 80,
            "metadata": {},
            "outputs": [
                {
                    "data": {
                        "text/plain": "1.0"
                    },
                    "execution_count": 80,
                    "metadata": {},
                    "output_type": "execute_result"
                }
            ],
            "source": "from sklearn.metrics import jaccard_similarity_score\njaccard_similarity_score(y_test, predTree)"
        },
        {
            "cell_type": "code",
            "execution_count": 81,
            "metadata": {},
            "outputs": [
                {
                    "data": {
                        "text/plain": "1.0"
                    },
                    "execution_count": 81,
                    "metadata": {},
                    "output_type": "execute_result"
                }
            ],
            "source": "from sklearn.metrics import f1_score\nf1_score(y_test, predTree, average='macro')"
        },
        {
            "cell_type": "markdown",
            "metadata": {},
            "source": "#### Linear Regression"
        },
        {
            "cell_type": "code",
            "execution_count": 82,
            "metadata": {},
            "outputs": [
                {
                    "name": "stderr",
                    "output_type": "stream",
                    "text": "/opt/conda/envs/Python36/lib/python3.6/site-packages/sklearn/utils/validation.py:761: DataConversionWarning: A column-vector y was passed when a 1d array was expected. Please change the shape of y to (n_samples, ), for example using ravel().\n  y = column_or_1d(y, warn=True)\n"
                }
            ],
            "source": "from sklearn.linear_model import LogisticRegression\nfrom sklearn.metrics import confusion_matrix\nLR = LogisticRegression(C=6,solver='liblinear').fit(X_train, y_train)"
        },
        {
            "cell_type": "code",
            "execution_count": 83,
            "metadata": {},
            "outputs": [],
            "source": "LR_pred = LR.predict(X_test)"
        },
        {
            "cell_type": "code",
            "execution_count": 84,
            "metadata": {},
            "outputs": [],
            "source": "LR_prob = LR.predict_proba(X_test)"
        },
        {
            "cell_type": "code",
            "execution_count": 85,
            "metadata": {},
            "outputs": [
                {
                    "data": {
                        "text/plain": "0.00017968719987053114"
                    },
                    "execution_count": 85,
                    "metadata": {},
                    "output_type": "execute_result"
                }
            ],
            "source": "from sklearn.metrics import log_loss\nLR_prob = LR.predict_proba(X_test)\nlog_loss(y_test, LR_prob)"
        },
        {
            "cell_type": "markdown",
            "metadata": {},
            "source": "#### Linear Regression Evaluation"
        },
        {
            "cell_type": "code",
            "execution_count": 86,
            "metadata": {},
            "outputs": [
                {
                    "data": {
                        "text/plain": "1.0"
                    },
                    "execution_count": 86,
                    "metadata": {},
                    "output_type": "execute_result"
                }
            ],
            "source": "from sklearn.metrics import jaccard_similarity_score\njaccard_similarity_score(y_test, LR_pred)"
        },
        {
            "cell_type": "code",
            "execution_count": 87,
            "metadata": {},
            "outputs": [
                {
                    "data": {
                        "text/plain": "1.0"
                    },
                    "execution_count": 87,
                    "metadata": {},
                    "output_type": "execute_result"
                }
            ],
            "source": "from sklearn.metrics import f1_score\nf1_score(y_test, LR_pred, average='macro')"
        },
        {
            "cell_type": "markdown",
            "metadata": {},
            "source": "### Report"
        },
        {
            "cell_type": "markdown",
            "metadata": {},
            "source": "| Algorithm          | Jaccard      | F1-score     | LogLoss |\n|--------------------|--------------|--------------|---------|\n| KNN                | 0.99951832552| 0.99951832593| N/A     |\n| Decision Tree      | 1.0          | 1.0          | N/A     |\n| LogisticRegression | 1.0          | 1.0          | 0.000179|"
        },
        {
            "cell_type": "markdown",
            "metadata": {},
            "source": "The machine learning algorithms all show very accurate predictions."
        }
    ],
    "metadata": {
        "kernelspec": {
            "display_name": "Python 3.6",
            "language": "python",
            "name": "python3"
        },
        "language_info": {
            "codemirror_mode": {
                "name": "ipython",
                "version": 3
            },
            "file_extension": ".py",
            "mimetype": "text/x-python",
            "name": "python",
            "nbconvert_exporter": "python",
            "pygments_lexer": "ipython3",
            "version": "3.6.9"
        }
    },
    "nbformat": 4,
    "nbformat_minor": 1
}